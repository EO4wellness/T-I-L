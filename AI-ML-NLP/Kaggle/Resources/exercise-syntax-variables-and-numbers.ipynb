{
 "cells": [
  {
   "cell_type": "markdown",
   "id": "a3c84517",
   "metadata": {
    "papermill": {
     "duration": 0.023852,
     "end_time": "2021-08-04T00:38:40.743767",
     "exception": false,
     "start_time": "2021-08-04T00:38:40.719915",
     "status": "completed"
    },
    "tags": []
   },
   "source": [
    "**This notebook is an exercise in the [Python](https://www.kaggle.com/learn/python) course.  You can reference the tutorial at [this link](https://www.kaggle.com/colinmorris/hello-python).**\n",
    "\n",
    "---\n"
   ]
  },
  {
   "cell_type": "markdown",
   "id": "619206c6",
   "metadata": {
    "papermill": {
     "duration": 0.022646,
     "end_time": "2021-08-04T00:38:40.791776",
     "exception": false,
     "start_time": "2021-08-04T00:38:40.769130",
     "status": "completed"
    },
    "tags": []
   },
   "source": [
    "Welcome to your first set of Python coding problems.  If this is your first time using Kaggle Notebooks, welcome! \n",
    "\n",
    "Notebooks are composed of blocks (called \"cells\") of text and code. Each of these is editable, though you'll mainly be editing the code cells to answer some questions.\n",
    "\n",
    "To get started, try running the code cell below (by pressing the ► button, or clicking on the cell and pressing ctrl+enter on your keyboard)."
   ]
  },
  {
   "cell_type": "code",
   "execution_count": 1,
   "id": "74b1b635",
   "metadata": {
    "execution": {
     "iopub.execute_input": "2021-08-04T00:38:40.842370Z",
     "iopub.status.busy": "2021-08-04T00:38:40.841174Z",
     "iopub.status.idle": "2021-08-04T00:38:40.853050Z",
     "shell.execute_reply": "2021-08-04T00:38:40.853584Z",
     "shell.execute_reply.started": "2021-08-04T00:37:58.741618Z"
    },
    "papermill": {
     "duration": 0.039056,
     "end_time": "2021-08-04T00:38:40.853907",
     "exception": false,
     "start_time": "2021-08-04T00:38:40.814851",
     "status": "completed"
    },
    "tags": []
   },
   "outputs": [
    {
     "name": "stdout",
     "output_type": "stream",
     "text": [
      "You've successfully run some Python code\n",
      "Congratulations!\n",
      "Thank you, Kaggle\n",
      "Thank you for this 30-Days of ML opportunity!\n"
     ]
    }
   ],
   "source": [
    "print(\"You've successfully run some Python code\")\n",
    "print(\"Congratulations!\")\n",
    "print(\"Thank you, Kaggle\")\n",
    "print(\"Thank you for this 30-Days of ML opportunity!\")"
   ]
  },
  {
   "cell_type": "code",
   "execution_count": 2,
   "id": "a03f5956",
   "metadata": {
    "execution": {
     "iopub.execute_input": "2021-08-04T00:38:40.905159Z",
     "iopub.status.busy": "2021-08-04T00:38:40.904369Z",
     "iopub.status.idle": "2021-08-04T00:38:40.907837Z",
     "shell.execute_reply": "2021-08-04T00:38:40.908315Z",
     "shell.execute_reply.started": "2021-08-04T00:37:58.756053Z"
    },
    "papermill": {
     "duration": 0.030344,
     "end_time": "2021-08-04T00:38:40.908491",
     "exception": false,
     "start_time": "2021-08-04T00:38:40.878147",
     "status": "completed"
    },
    "tags": []
   },
   "outputs": [],
   "source": [
    "# created a new cell above the active \"comment\" cell below"
   ]
  },
  {
   "cell_type": "code",
   "execution_count": 3,
   "id": "63aef6ae",
   "metadata": {
    "execution": {
     "iopub.execute_input": "2021-08-04T00:38:40.959309Z",
     "iopub.status.busy": "2021-08-04T00:38:40.958631Z",
     "iopub.status.idle": "2021-08-04T00:38:40.961774Z",
     "shell.execute_reply": "2021-08-04T00:38:40.962245Z",
     "shell.execute_reply.started": "2021-08-04T00:37:58.766389Z"
    },
    "papermill": {
     "duration": 0.029979,
     "end_time": "2021-08-04T00:38:40.962416",
     "exception": false,
     "start_time": "2021-08-04T00:38:40.932437",
     "status": "completed"
    },
    "tags": []
   },
   "outputs": [],
   "source": [
    "# comment"
   ]
  },
  {
   "cell_type": "code",
   "execution_count": 4,
   "id": "04b55bea",
   "metadata": {
    "execution": {
     "iopub.execute_input": "2021-08-04T00:38:41.014235Z",
     "iopub.status.busy": "2021-08-04T00:38:41.013518Z",
     "iopub.status.idle": "2021-08-04T00:38:41.016672Z",
     "shell.execute_reply": "2021-08-04T00:38:41.017173Z",
     "shell.execute_reply.started": "2021-08-04T00:37:58.777149Z"
    },
    "papermill": {
     "duration": 0.031434,
     "end_time": "2021-08-04T00:38:41.017353",
     "exception": false,
     "start_time": "2021-08-04T00:38:40.985919",
     "status": "completed"
    },
    "tags": []
   },
   "outputs": [],
   "source": [
    "# created a new cell below the active \"comment\" cell below"
   ]
  },
  {
   "cell_type": "markdown",
   "id": "50720eee",
   "metadata": {
    "papermill": {
     "duration": 0.023709,
     "end_time": "2021-08-04T00:38:41.064547",
     "exception": false,
     "start_time": "2021-08-04T00:38:41.040838",
     "status": "completed"
    },
    "tags": []
   },
   "source": [
    "Try adding another line of code in the cell above and re-running it. \n",
    "\n",
    "Now let's get a little fancier:  Add a new code cell by clicking on an existing code cell, hitting the escape key, and then hitting the `a` or `b` key.  The `a` key will add a cell above the current cell, and `b` adds a cell below.\n",
    "\n",
    "Great! Now you know how to use Notebooks.\n",
    "\n",
    "Each hands-on exercise starts by setting up our feedback and code checking mechanism. Run the code cell below to do that. Then you'll be ready to move on to question 0."
   ]
  },
  {
   "cell_type": "code",
   "execution_count": 5,
   "id": "336a5d03",
   "metadata": {
    "_kg_hide-input": true,
    "_kg_hide-output": true,
    "execution": {
     "iopub.execute_input": "2021-08-04T00:38:41.114993Z",
     "iopub.status.busy": "2021-08-04T00:38:41.114324Z",
     "iopub.status.idle": "2021-08-04T00:38:41.258597Z",
     "shell.execute_reply": "2021-08-04T00:38:41.257842Z",
     "shell.execute_reply.started": "2021-08-04T00:37:58.785230Z"
    },
    "papermill": {
     "duration": 0.170908,
     "end_time": "2021-08-04T00:38:41.258742",
     "exception": false,
     "start_time": "2021-08-04T00:38:41.087834",
     "status": "completed"
    },
    "tags": []
   },
   "outputs": [
    {
     "name": "stdout",
     "output_type": "stream",
     "text": [
      "Setup complete! You're ready to start question 0.\n"
     ]
    }
   ],
   "source": [
    "from learntools.core import binder; binder.bind(globals())\n",
    "from learntools.python.ex1 import *\n",
    "print(\"Setup complete! You're ready to start question 0.\")"
   ]
  },
  {
   "cell_type": "markdown",
   "id": "a86b6914",
   "metadata": {
    "papermill": {
     "duration": 0.02393,
     "end_time": "2021-08-04T00:38:41.307597",
     "exception": false,
     "start_time": "2021-08-04T00:38:41.283667",
     "status": "completed"
    },
    "tags": []
   },
   "source": [
    "# 0.\n",
    "\n",
    "*This is a silly question intended as an introduction to the format we use for hands-on exercises throughout all Kaggle courses.*\n",
    "\n",
    "**What is your favorite color? **\n",
    "\n",
    "To complete this question, create a variable called `color` in the cell below with an appropriate value. The function call `q0.check()` (which we've already provided in the cell below) will check your answer."
   ]
  },
  {
   "cell_type": "code",
   "execution_count": 6,
   "id": "43040cd7",
   "metadata": {
    "execution": {
     "iopub.execute_input": "2021-08-04T00:38:41.363808Z",
     "iopub.status.busy": "2021-08-04T00:38:41.363118Z",
     "iopub.status.idle": "2021-08-04T00:38:41.369043Z",
     "shell.execute_reply": "2021-08-04T00:38:41.369614Z",
     "shell.execute_reply.started": "2021-08-04T00:37:58.882822Z"
    },
    "papermill": {
     "duration": 0.037667,
     "end_time": "2021-08-04T00:38:41.369781",
     "exception": false,
     "start_time": "2021-08-04T00:38:41.332114",
     "status": "completed"
    },
    "tags": []
   },
   "outputs": [
    {
     "data": {
      "application/javascript": [
       "parent.postMessage({\"jupyterEvent\": \"custom.exercise_interaction\", \"data\": {\"outcomeType\": 1, \"valueTowardsCompletion\": 0.25, \"interactionType\": 1, \"questionType\": 2, \"questionId\": \"0_ExerciseFormatTutorial\", \"learnToolsVersion\": \"0.3.4\", \"failureMessage\": \"\", \"exceptionClass\": \"\", \"trace\": \"\"}}, \"*\")"
      ],
      "text/plain": [
       "<IPython.core.display.Javascript object>"
      ]
     },
     "metadata": {},
     "output_type": "display_data"
    },
    {
     "data": {
      "text/markdown": [
       "<span style=\"color:#33cc33\">Correct:</span> What?! You got it right without needing a hint or anything? Drats. Well hey, you should still continue to the next step to get some practice asking for a hint and checking solutions. (Even though you obviously don't need any help here.)"
      ],
      "text/plain": [
       "Correct: What?! You got it right without needing a hint or anything? Drats. Well hey, you should still continue to the next step to get some practice asking for a hint and checking solutions. (Even though you obviously don't need any help here.)"
      ]
     },
     "metadata": {},
     "output_type": "display_data"
    }
   ],
   "source": [
    "# create a variable called color with an appropriate value on the line below\n",
    "# (Remember, strings in Python must be enclosed in 'single' or \"double\" quotes)\n",
    "____\n",
    "color=\"blue\";\n",
    "# Check your answer\n",
    "q0.check()"
   ]
  },
  {
   "cell_type": "markdown",
   "id": "40cef325",
   "metadata": {
    "papermill": {
     "duration": 0.02424,
     "end_time": "2021-08-04T00:38:41.418767",
     "exception": false,
     "start_time": "2021-08-04T00:38:41.394527",
     "status": "completed"
    },
    "tags": []
   },
   "source": [
    "Didn't get the right answer? How do you not even know your own favorite color?!\n",
    "\n",
    "Delete the `#` in the line below to make one of the lines run. You can choose between getting a hint or the full answer by choosing which line to remove the `#` from. \n",
    "\n",
    "Removing the `#` is called uncommenting, because it changes that line from a \"comment\" which Python doesn't run to code, which Python does run."
   ]
  },
  {
   "cell_type": "code",
   "execution_count": 7,
   "id": "54033e96",
   "metadata": {
    "execution": {
     "iopub.execute_input": "2021-08-04T00:38:41.471611Z",
     "iopub.status.busy": "2021-08-04T00:38:41.470674Z",
     "iopub.status.idle": "2021-08-04T00:38:41.477745Z",
     "shell.execute_reply": "2021-08-04T00:38:41.478268Z",
     "shell.execute_reply.started": "2021-08-04T00:37:58.894386Z"
    },
    "papermill": {
     "duration": 0.035128,
     "end_time": "2021-08-04T00:38:41.478437",
     "exception": false,
     "start_time": "2021-08-04T00:38:41.443309",
     "status": "completed"
    },
    "tags": []
   },
   "outputs": [
    {
     "data": {
      "application/javascript": [
       "parent.postMessage({\"jupyterEvent\": \"custom.exercise_interaction\", \"data\": {\"interactionType\": 2, \"questionType\": 2, \"questionId\": \"0_ExerciseFormatTutorial\", \"learnToolsVersion\": \"0.3.4\", \"valueTowardsCompletion\": 0.0, \"failureMessage\": \"\", \"exceptionClass\": \"\", \"trace\": \"\", \"outcomeType\": 4}}, \"*\")"
      ],
      "text/plain": [
       "<IPython.core.display.Javascript object>"
      ]
     },
     "metadata": {},
     "output_type": "display_data"
    },
    {
     "data": {
      "text/markdown": [
       "<span style=\"color:#3366cc\">Hint:</span> Your favorite color rhymes with *glue*."
      ],
      "text/plain": [
       "Hint: Your favorite color rhymes with *glue*."
      ]
     },
     "metadata": {},
     "output_type": "display_data"
    }
   ],
   "source": [
    "q0.hint()\n",
    "#q0.solution()"
   ]
  },
  {
   "cell_type": "markdown",
   "id": "3565e40b",
   "metadata": {
    "papermill": {
     "duration": 0.025242,
     "end_time": "2021-08-04T00:38:41.529604",
     "exception": false,
     "start_time": "2021-08-04T00:38:41.504362",
     "status": "completed"
    },
    "tags": []
   },
   "source": [
    "The upcoming questions work the same way. The only thing that will change are the question numbers. For the next question, you'll call `q1.check()`, `q1.hint()`, `q1.solution()`, for question 2, you'll call `q2.check()`, and so on."
   ]
  },
  {
   "cell_type": "markdown",
   "id": "75822661",
   "metadata": {
    "papermill": {
     "duration": 0.026185,
     "end_time": "2021-08-04T00:38:41.581435",
     "exception": false,
     "start_time": "2021-08-04T00:38:41.555250",
     "status": "completed"
    },
    "tags": []
   },
   "source": [
    "<hr/>\n",
    "\n",
    "# 1.\n",
    "\n",
    "Complete the code below. In case it's helpful, here is the table of available arithmetic operations:\n",
    "\n",
    "\n",
    "\n",
    "| Operator     | Name           | Description                                            |\n",
    "|--------------|----------------|--------------------------------------------------------|\n",
    "| ``a + b``    | Addition       | Sum of ``a`` and ``b``                                 |\n",
    "| ``a - b``    | Subtraction    | Difference of ``a`` and ``b``                          |\n",
    "| ``a * b``    | Multiplication | Product of ``a`` and ``b``                             |\n",
    "| ``a / b``    | True division  | Quotient of ``a`` and ``b``                            |\n",
    "| ``a // b``   | Floor division | Quotient of ``a`` and ``b``, removing fractional parts |\n",
    "| ``a % b``    | Modulus        | Integer remainder after division of ``a`` by ``b``     |\n",
    "| ``a ** b``   | Exponentiation | ``a`` raised to the power of ``b``                     |\n",
    "| ``-a``       | Negation       | The negative of ``a``                                  |\n",
    "\n",
    "<span style=\"display:none\"></span>\n"
   ]
  },
  {
   "cell_type": "code",
   "execution_count": 8,
   "id": "087d3559",
   "metadata": {
    "execution": {
     "iopub.execute_input": "2021-08-04T00:38:41.637219Z",
     "iopub.status.busy": "2021-08-04T00:38:41.636236Z",
     "iopub.status.idle": "2021-08-04T00:38:41.644933Z",
     "shell.execute_reply": "2021-08-04T00:38:41.645464Z",
     "shell.execute_reply.started": "2021-08-04T00:37:58.907532Z"
    },
    "papermill": {
     "duration": 0.038137,
     "end_time": "2021-08-04T00:38:41.645645",
     "exception": false,
     "start_time": "2021-08-04T00:38:41.607508",
     "status": "completed"
    },
    "tags": []
   },
   "outputs": [
    {
     "data": {
      "application/javascript": [
       "parent.postMessage({\"jupyterEvent\": \"custom.exercise_interaction\", \"data\": {\"outcomeType\": 1, \"valueTowardsCompletion\": 0.25, \"interactionType\": 1, \"questionType\": 1, \"questionId\": \"1_CircleArea\", \"learnToolsVersion\": \"0.3.4\", \"failureMessage\": \"\", \"exceptionClass\": \"\", \"trace\": \"\"}}, \"*\")"
      ],
      "text/plain": [
       "<IPython.core.display.Javascript object>"
      ]
     },
     "metadata": {},
     "output_type": "display_data"
    },
    {
     "data": {
      "text/markdown": [
       "<span style=\"color:#33cc33\">Correct</span>"
      ],
      "text/plain": [
       "Correct"
      ]
     },
     "metadata": {},
     "output_type": "display_data"
    }
   ],
   "source": [
    "pi = 3.14159 # approximate\n",
    "diameter = 3\n",
    "\n",
    "# Create a variable called 'radius' equal to half the diameter\n",
    "radius = .5 * diameter\n",
    "\n",
    "# Create a variable called 'area', using the formula for the area of a circle: pi times the radius squared\n",
    "area = pi * (radius**2)\n",
    "\n",
    "# Check your answer\n",
    "q1.check()"
   ]
  },
  {
   "cell_type": "code",
   "execution_count": 9,
   "id": "c6473f84",
   "metadata": {
    "execution": {
     "iopub.execute_input": "2021-08-04T00:38:41.705535Z",
     "iopub.status.busy": "2021-08-04T00:38:41.704808Z",
     "iopub.status.idle": "2021-08-04T00:38:41.708442Z",
     "shell.execute_reply": "2021-08-04T00:38:41.708997Z",
     "shell.execute_reply.started": "2021-08-04T00:37:58.918478Z"
    },
    "papermill": {
     "duration": 0.035976,
     "end_time": "2021-08-04T00:38:41.709191",
     "exception": false,
     "start_time": "2021-08-04T00:38:41.673215",
     "status": "completed"
    },
    "tags": []
   },
   "outputs": [],
   "source": [
    "# Uncomment and run the lines below if you need help.\n",
    "#q1.hint()\n",
    "#q1.solution()"
   ]
  },
  {
   "cell_type": "markdown",
   "id": "ce863c59",
   "metadata": {
    "papermill": {
     "duration": 0.026965,
     "end_time": "2021-08-04T00:38:41.763430",
     "exception": false,
     "start_time": "2021-08-04T00:38:41.736465",
     "status": "completed"
    },
    "tags": []
   },
   "source": [
    "<hr/>\n",
    "\n",
    "# 2.\n",
    "\n",
    "Add code to the following cell to swap variables `a` and `b` (so that `a` refers to the object previously referred to by `b` and vice versa)."
   ]
  },
  {
   "cell_type": "code",
   "execution_count": 10,
   "id": "89041e97",
   "metadata": {
    "execution": {
     "iopub.execute_input": "2021-08-04T00:38:41.824019Z",
     "iopub.status.busy": "2021-08-04T00:38:41.823329Z",
     "iopub.status.idle": "2021-08-04T00:38:41.831967Z",
     "shell.execute_reply": "2021-08-04T00:38:41.832489Z",
     "shell.execute_reply.started": "2021-08-04T00:37:58.926449Z"
    },
    "papermill": {
     "duration": 0.04153,
     "end_time": "2021-08-04T00:38:41.832656",
     "exception": false,
     "start_time": "2021-08-04T00:38:41.791126",
     "status": "completed"
    },
    "tags": []
   },
   "outputs": [
    {
     "data": {
      "application/javascript": [
       "parent.postMessage({\"jupyterEvent\": \"custom.exercise_interaction\", \"data\": {\"outcomeType\": 1, \"valueTowardsCompletion\": 0.25, \"interactionType\": 1, \"questionType\": 2, \"questionId\": \"2_VariableSwap\", \"learnToolsVersion\": \"0.3.4\", \"failureMessage\": \"\", \"exceptionClass\": \"\", \"trace\": \"\"}}, \"*\")"
      ],
      "text/plain": [
       "<IPython.core.display.Javascript object>"
      ]
     },
     "metadata": {},
     "output_type": "display_data"
    },
    {
     "data": {
      "text/markdown": [
       "<span style=\"color:#33cc33\">Correct:</span> \n",
       "\n",
       "The most straightforward solution is to use a third variable to temporarily store one of the old values. e.g.:\n",
       "\n",
       "    tmp = a\n",
       "    a = b\n",
       "    b = tmp\n",
       "\n",
       "If you've read lots of Python code, you might have seen the following trick to swap two variables in one line:\n",
       "\n",
       "    a, b = b, a\n",
       "\n",
       "We'll demystify this bit of Python magic later when we talk about *tuples*."
      ],
      "text/plain": [
       "Correct: \n",
       "\n",
       "The most straightforward solution is to use a third variable to temporarily store one of the old values. e.g.:\n",
       "\n",
       "    tmp = a\n",
       "    a = b\n",
       "    b = tmp\n",
       "\n",
       "If you've read lots of Python code, you might have seen the following trick to swap two variables in one line:\n",
       "\n",
       "    a, b = b, a\n",
       "\n",
       "We'll demystify this bit of Python magic later when we talk about *tuples*."
      ]
     },
     "metadata": {},
     "output_type": "display_data"
    }
   ],
   "source": [
    "########### Setup code - don't touch this part ######################\n",
    "# If you're curious, these are examples of lists. We'll talk about \n",
    "# them in depth a few lessons from now. For now, just know that they're\n",
    "# yet another type of Python object, like int or float.\n",
    "a = [1, 2, 3]\n",
    "b = [3, 2, 1]\n",
    "q2.store_original_ids()\n",
    "######################################################################\n",
    "\n",
    "# Your code goes here. Swap the values to which a and b refer.\n",
    "# If you get stuck, you can always uncomment one or both of the lines in\n",
    "# the next cell for a hint, or to peek at the solution.\n",
    "c = a\n",
    "a = b\n",
    "b = c\n",
    "######################################################################\n",
    "\n",
    "# Check your answer\n",
    "q2.check()"
   ]
  },
  {
   "cell_type": "code",
   "execution_count": 11,
   "id": "592a91c4",
   "metadata": {
    "execution": {
     "iopub.execute_input": "2021-08-04T00:38:41.893960Z",
     "iopub.status.busy": "2021-08-04T00:38:41.893183Z",
     "iopub.status.idle": "2021-08-04T00:38:41.896380Z",
     "shell.execute_reply": "2021-08-04T00:38:41.895771Z",
     "shell.execute_reply.started": "2021-08-04T00:37:58.938761Z"
    },
    "papermill": {
     "duration": 0.035266,
     "end_time": "2021-08-04T00:38:41.896527",
     "exception": false,
     "start_time": "2021-08-04T00:38:41.861261",
     "status": "completed"
    },
    "tags": []
   },
   "outputs": [],
   "source": [
    "#q2.hint()"
   ]
  },
  {
   "cell_type": "code",
   "execution_count": 12,
   "id": "bd3e07d4",
   "metadata": {
    "execution": {
     "iopub.execute_input": "2021-08-04T00:38:41.956669Z",
     "iopub.status.busy": "2021-08-04T00:38:41.955976Z",
     "iopub.status.idle": "2021-08-04T00:38:41.959667Z",
     "shell.execute_reply": "2021-08-04T00:38:41.959015Z",
     "shell.execute_reply.started": "2021-08-04T00:37:58.945157Z"
    },
    "papermill": {
     "duration": 0.035491,
     "end_time": "2021-08-04T00:38:41.959806",
     "exception": false,
     "start_time": "2021-08-04T00:38:41.924315",
     "status": "completed"
    },
    "tags": []
   },
   "outputs": [],
   "source": [
    "#q2.solution()"
   ]
  },
  {
   "cell_type": "markdown",
   "id": "bb88ca21",
   "metadata": {
    "papermill": {
     "duration": 0.027601,
     "end_time": "2021-08-04T00:38:42.015140",
     "exception": false,
     "start_time": "2021-08-04T00:38:41.987539",
     "status": "completed"
    },
    "tags": []
   },
   "source": [
    "<hr/>\n",
    "\n",
    "# 3a.\n",
    "\n",
    "Add parentheses to the following expression so that it evaluates to 1."
   ]
  },
  {
   "cell_type": "code",
   "execution_count": 13,
   "id": "42cf37cd",
   "metadata": {
    "execution": {
     "iopub.execute_input": "2021-08-04T00:38:42.077672Z",
     "iopub.status.busy": "2021-08-04T00:38:42.076900Z",
     "iopub.status.idle": "2021-08-04T00:38:42.080050Z",
     "shell.execute_reply": "2021-08-04T00:38:42.080675Z",
     "shell.execute_reply.started": "2021-08-04T00:37:58.954872Z"
    },
    "papermill": {
     "duration": 0.037214,
     "end_time": "2021-08-04T00:38:42.080849",
     "exception": false,
     "start_time": "2021-08-04T00:38:42.043635",
     "status": "completed"
    },
    "tags": []
   },
   "outputs": [
    {
     "data": {
      "text/plain": [
       "1"
      ]
     },
     "execution_count": 13,
     "metadata": {},
     "output_type": "execute_result"
    }
   ],
   "source": [
    "(5 - 3) // 2"
   ]
  },
  {
   "cell_type": "code",
   "execution_count": 14,
   "id": "9c646ecb",
   "metadata": {
    "execution": {
     "iopub.execute_input": "2021-08-04T00:38:42.141939Z",
     "iopub.status.busy": "2021-08-04T00:38:42.141249Z",
     "iopub.status.idle": "2021-08-04T00:38:42.144474Z",
     "shell.execute_reply": "2021-08-04T00:38:42.145014Z",
     "shell.execute_reply.started": "2021-08-04T00:37:58.966167Z"
    },
    "papermill": {
     "duration": 0.035443,
     "end_time": "2021-08-04T00:38:42.145215",
     "exception": false,
     "start_time": "2021-08-04T00:38:42.109772",
     "status": "completed"
    },
    "tags": []
   },
   "outputs": [],
   "source": [
    "#q3.a.hint()"
   ]
  },
  {
   "cell_type": "code",
   "execution_count": 15,
   "id": "b8aa75e1",
   "metadata": {
    "execution": {
     "iopub.execute_input": "2021-08-04T00:38:42.205038Z",
     "iopub.status.busy": "2021-08-04T00:38:42.204364Z",
     "iopub.status.idle": "2021-08-04T00:38:42.210726Z",
     "shell.execute_reply": "2021-08-04T00:38:42.211240Z",
     "shell.execute_reply.started": "2021-08-04T00:37:58.974100Z"
    },
    "papermill": {
     "duration": 0.037961,
     "end_time": "2021-08-04T00:38:42.211405",
     "exception": false,
     "start_time": "2021-08-04T00:38:42.173444",
     "status": "completed"
    },
    "tags": []
   },
   "outputs": [
    {
     "data": {
      "application/javascript": [
       "parent.postMessage({\"jupyterEvent\": \"custom.exercise_interaction\", \"data\": {\"interactionType\": 3, \"questionType\": 4, \"questionId\": \"3.1_ArithmeticParensEasy\", \"learnToolsVersion\": \"0.3.4\", \"valueTowardsCompletion\": 0.0, \"failureMessage\": \"\", \"exceptionClass\": \"\", \"trace\": \"\", \"outcomeType\": 4}}, \"*\")"
      ],
      "text/plain": [
       "<IPython.core.display.Javascript object>"
      ]
     },
     "metadata": {},
     "output_type": "display_data"
    },
    {
     "data": {
      "text/markdown": [
       "<span style=\"color:#33cc99\">Solution:</span> \n",
       "```python\n",
       "(5 - 3) // 2\n",
       "```"
      ],
      "text/plain": [
       "Solution: \n",
       "```python\n",
       "(5 - 3) // 2\n",
       "```"
      ]
     },
     "metadata": {},
     "output_type": "display_data"
    }
   ],
   "source": [
    "# Check your answer (Run this code cell to receive credit!)\n",
    "q3.a.solution()"
   ]
  },
  {
   "cell_type": "markdown",
   "id": "b6318624",
   "metadata": {
    "papermill": {
     "duration": 0.030014,
     "end_time": "2021-08-04T00:38:42.270444",
     "exception": false,
     "start_time": "2021-08-04T00:38:42.240430",
     "status": "completed"
    },
    "tags": []
   },
   "source": [
    "# 3b.  <span title=\"A bit spicy\" style=\"color: darkgreen \">🌶️</span>\n",
    "\n",
    "<small>Questions, like this one, marked a spicy pepper are a bit harder.</small>\n",
    "\n",
    "Add parentheses to the following expression so that it evaluates to 0."
   ]
  },
  {
   "cell_type": "code",
   "execution_count": 16,
   "id": "10460227",
   "metadata": {
    "execution": {
     "iopub.execute_input": "2021-08-04T00:38:42.332842Z",
     "iopub.status.busy": "2021-08-04T00:38:42.332203Z",
     "iopub.status.idle": "2021-08-04T00:38:42.337840Z",
     "shell.execute_reply": "2021-08-04T00:38:42.338328Z",
     "shell.execute_reply.started": "2021-08-04T00:37:58.985733Z"
    },
    "papermill": {
     "duration": 0.03793,
     "end_time": "2021-08-04T00:38:42.338504",
     "exception": false,
     "start_time": "2021-08-04T00:38:42.300574",
     "status": "completed"
    },
    "tags": []
   },
   "outputs": [
    {
     "data": {
      "text/plain": [
       "0"
      ]
     },
     "execution_count": 16,
     "metadata": {},
     "output_type": "execute_result"
    }
   ],
   "source": [
    "(8 - (3 * 2)) - (1 + 1)"
   ]
  },
  {
   "cell_type": "code",
   "execution_count": 17,
   "id": "a0075843",
   "metadata": {
    "execution": {
     "iopub.execute_input": "2021-08-04T00:38:42.401569Z",
     "iopub.status.busy": "2021-08-04T00:38:42.400914Z",
     "iopub.status.idle": "2021-08-04T00:38:42.405845Z",
     "shell.execute_reply": "2021-08-04T00:38:42.405266Z",
     "shell.execute_reply.started": "2021-08-04T00:37:58.993098Z"
    },
    "papermill": {
     "duration": 0.038052,
     "end_time": "2021-08-04T00:38:42.406036",
     "exception": false,
     "start_time": "2021-08-04T00:38:42.367984",
     "status": "completed"
    },
    "tags": []
   },
   "outputs": [],
   "source": [
    "#q3.b.hint()"
   ]
  },
  {
   "cell_type": "code",
   "execution_count": 18,
   "id": "990a2932",
   "metadata": {
    "execution": {
     "iopub.execute_input": "2021-08-04T00:38:42.471754Z",
     "iopub.status.busy": "2021-08-04T00:38:42.470758Z",
     "iopub.status.idle": "2021-08-04T00:38:42.477327Z",
     "shell.execute_reply": "2021-08-04T00:38:42.476725Z",
     "shell.execute_reply.started": "2021-08-04T00:37:59.002230Z"
    },
    "papermill": {
     "duration": 0.041377,
     "end_time": "2021-08-04T00:38:42.477493",
     "exception": false,
     "start_time": "2021-08-04T00:38:42.436116",
     "status": "completed"
    },
    "tags": []
   },
   "outputs": [
    {
     "data": {
      "application/javascript": [
       "parent.postMessage({\"jupyterEvent\": \"custom.exercise_interaction\", \"data\": {\"interactionType\": 3, \"questionType\": 4, \"questionId\": \"3.2_ArithmeticParensHard\", \"learnToolsVersion\": \"0.3.4\", \"valueTowardsCompletion\": 0.0, \"failureMessage\": \"\", \"exceptionClass\": \"\", \"trace\": \"\", \"outcomeType\": 4}}, \"*\")"
      ],
      "text/plain": [
       "<IPython.core.display.Javascript object>"
      ]
     },
     "metadata": {},
     "output_type": "display_data"
    },
    {
     "data": {
      "text/markdown": [
       "<span style=\"color:#33cc99\">Solution:</span> `(8 - 3) * (2 - (1 + 1))` is one solution. There may be others."
      ],
      "text/plain": [
       "Solution: `(8 - 3) * (2 - (1 + 1))` is one solution. There may be others."
      ]
     },
     "metadata": {},
     "output_type": "display_data"
    }
   ],
   "source": [
    "# Check your answer (Run this code cell to receive credit!)\n",
    "q3.b.solution()"
   ]
  },
  {
   "cell_type": "markdown",
   "id": "76d4cdfd",
   "metadata": {
    "papermill": {
     "duration": 0.029999,
     "end_time": "2021-08-04T00:38:42.538955",
     "exception": false,
     "start_time": "2021-08-04T00:38:42.508956",
     "status": "completed"
    },
    "tags": []
   },
   "source": [
    "<hr/>\n",
    "\n",
    "# 4. \n",
    "Alice, Bob and Carol have agreed to pool their Halloween candy and split it evenly among themselves.\n",
    "For the sake of their friendship, any candies left over will be smashed. For example, if they collectively\n",
    "bring home 91 candies, they'll take 30 each and smash 1.\n",
    "\n",
    "Write an arithmetic expression below to calculate how many candies they must smash for a given haul."
   ]
  },
  {
   "cell_type": "code",
   "execution_count": 19,
   "id": "e9ad0674",
   "metadata": {
    "execution": {
     "iopub.execute_input": "2021-08-04T00:38:42.606217Z",
     "iopub.status.busy": "2021-08-04T00:38:42.605339Z",
     "iopub.status.idle": "2021-08-04T00:38:42.611783Z",
     "shell.execute_reply": "2021-08-04T00:38:42.611220Z",
     "shell.execute_reply.started": "2021-08-04T00:37:59.016452Z"
    },
    "papermill": {
     "duration": 0.042417,
     "end_time": "2021-08-04T00:38:42.611947",
     "exception": false,
     "start_time": "2021-08-04T00:38:42.569530",
     "status": "completed"
    },
    "tags": []
   },
   "outputs": [
    {
     "data": {
      "application/javascript": [
       "parent.postMessage({\"jupyterEvent\": \"custom.exercise_interaction\", \"data\": {\"outcomeType\": 1, \"valueTowardsCompletion\": 0.25, \"interactionType\": 1, \"questionType\": 1, \"questionId\": \"4_CandySplitting\", \"learnToolsVersion\": \"0.3.4\", \"failureMessage\": \"\", \"exceptionClass\": \"\", \"trace\": \"\"}}, \"*\")"
      ],
      "text/plain": [
       "<IPython.core.display.Javascript object>"
      ]
     },
     "metadata": {},
     "output_type": "display_data"
    },
    {
     "data": {
      "text/markdown": [
       "<span style=\"color:#33cc33\">Correct</span>"
      ],
      "text/plain": [
       "Correct"
      ]
     },
     "metadata": {},
     "output_type": "display_data"
    }
   ],
   "source": [
    "# Variables representing the number of candies collected by alice, bob, and carol\n",
    "alice_candies = 121\n",
    "bob_candies = 77\n",
    "carol_candies = 109\n",
    "\n",
    "# Your code goes here! Replace the right-hand side of this assignment with an expression\n",
    "# involving alice_candies, bob_candies, and carol_candies\n",
    "to_smash = (alice_candies + bob_candies + carol_candies) % 3 \n",
    "\n",
    "# Check your answer\n",
    "q4.check()"
   ]
  },
  {
   "cell_type": "code",
   "execution_count": 20,
   "id": "0968aff1",
   "metadata": {
    "execution": {
     "iopub.execute_input": "2021-08-04T00:38:42.681307Z",
     "iopub.status.busy": "2021-08-04T00:38:42.680471Z",
     "iopub.status.idle": "2021-08-04T00:38:42.684168Z",
     "shell.execute_reply": "2021-08-04T00:38:42.683489Z",
     "shell.execute_reply.started": "2021-08-04T00:37:59.027487Z"
    },
    "papermill": {
     "duration": 0.040315,
     "end_time": "2021-08-04T00:38:42.684310",
     "exception": false,
     "start_time": "2021-08-04T00:38:42.643995",
     "status": "completed"
    },
    "tags": []
   },
   "outputs": [],
   "source": [
    "# q4.hint()\n",
    "# q4.solution()"
   ]
  },
  {
   "cell_type": "markdown",
   "id": "9f632f24",
   "metadata": {
    "papermill": {
     "duration": 0.035156,
     "end_time": "2021-08-04T00:38:42.751813",
     "exception": false,
     "start_time": "2021-08-04T00:38:42.716657",
     "status": "completed"
    },
    "tags": []
   },
   "source": [
    "# Keep Going\n",
    "\n",
    "Next up, you'll **[learn to write new functions and understand functions others write](https://www.kaggle.com/colinmorris/functions-and-getting-help)**. This will make you at least 10 times more productive as a Python programmer. "
   ]
  },
  {
   "cell_type": "markdown",
   "id": "96ba1e4e",
   "metadata": {
    "papermill": {
     "duration": 0.031527,
     "end_time": "2021-08-04T00:38:42.817131",
     "exception": false,
     "start_time": "2021-08-04T00:38:42.785604",
     "status": "completed"
    },
    "tags": []
   },
   "source": [
    "---\n",
    "\n",
    "\n",
    "\n",
    "\n",
    "*Have questions or comments? Visit the [Learn Discussion forum](https://www.kaggle.com/learn-forum/161283) to chat with other Learners.*"
   ]
  }
 ],
 "metadata": {
  "kernelspec": {
   "display_name": "Python 3",
   "language": "python",
   "name": "python3"
  },
  "language_info": {
   "codemirror_mode": {
    "name": "ipython",
    "version": 3
   },
   "file_extension": ".py",
   "mimetype": "text/x-python",
   "name": "python",
   "nbconvert_exporter": "python",
   "pygments_lexer": "ipython3",
   "version": "3.7.10"
  },
  "papermill": {
   "default_parameters": {},
   "duration": 11.649987,
   "end_time": "2021-08-04T00:38:43.559341",
   "environment_variables": {},
   "exception": null,
   "input_path": "__notebook__.ipynb",
   "output_path": "__notebook__.ipynb",
   "parameters": {},
   "start_time": "2021-08-04T00:38:31.909354",
   "version": "2.3.3"
  }
 },
 "nbformat": 4,
 "nbformat_minor": 5
}
