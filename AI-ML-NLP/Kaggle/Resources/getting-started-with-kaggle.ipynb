{
 "cells": [
  {
   "cell_type": "markdown",
   "id": "latin-assets",
   "metadata": {
    "papermill": {
     "duration": 0.005664,
     "end_time": "2021-08-05T13:03:45.273010",
     "exception": false,
     "start_time": "2021-08-05T13:03:45.267346",
     "status": "completed"
    },
    "tags": []
   },
   "source": [
    "# Welcome to Kaggle!\n",
    "\n",
    "Once you have created a Kaggle account, you're officially a \"Kaggler\" -- and joining a community of over seven million users!  \n",
    "\n",
    "> _If you haven't yet created a Kaggle account, it only takes a couple of minutes.  Click **[here](https://www.kaggle.com/account/login?phase=startRegisterTab&returnUrl=%2F)**._\n",
    "\n",
    "So what should you do first?  This notebook will introduce you to Kaggle's progression system, which you can use to measure your growth as a data scientist.  You'll level up from \"Novice\" to \"Contributor\", and also make your first submission to a Kaggle competition (_no programming experience needed!_).\n",
    "\n",
    "We expect that following all of the steps here will take approximately **35 minutes**."
   ]
  },
  {
   "cell_type": "markdown",
   "id": "wrapped-photography",
   "metadata": {
    "papermill": {
     "duration": 0.004057,
     "end_time": "2021-08-05T13:03:45.281974",
     "exception": false,
     "start_time": "2021-08-05T13:03:45.277917",
     "status": "completed"
    },
    "tags": []
   },
   "source": [
    "# Step 1: Your Kaggle profile [2 minutes]\n",
    "\n",
    "Navigate to your Kaggle profile by visiting [kaggle.com/me](https://www.kaggle.com/me).  If you haven't done much yet on Kaggle, the page will look similar to the screenshot below.  \n",
    "\n",
    "<img src=\"https://i.imgur.com/43ho0EG.png\" width=\"100%\"/>\n",
    "\n",
    "You'll see four boxes that say **Competitions Novice**, **Datasets Novice**, **Notebooks Novice**, and **Discussion Novice**.  Each of the boxes maps to a different type of activity that you can do on Kaggle:\n",
    "- Through [**competitions**](https://www.kaggle.com/competitions), you can submit solutions to data science problems that are posed by companies like [Santander](https://www.kaggle.com/c/santander-customer-transaction-prediction) and [Zillow](https://www.kaggle.com/c/zillow-prize-1).  You can also collaborate with other Kagglers, and top solutions are often awarded large cash prizes.    \n",
    "- Kaggle has a large collection of [**datasets**](https://www.kaggle.com/datasets) that you can use in your data science projects.  You can also contribute to the community by uploading your own datasets.\n",
    "- [**Notebooks**](https://www.kaggle.com/code) are a great way to share your projects with the data science community.  \n",
    "- You can contribute to community [**discussion**](https://www.kaggle.com/discussion) by posing questions or providing answers to other Kagglers.\n",
    "\n",
    "By participating in these activities, you can receive recognition from other Kagglers and be awarded medals.  These medals will be recorded on your profile, which you can use to track your growth as a data scientist on Kaggle.  "
   ]
  },
  {
   "cell_type": "markdown",
   "id": "vietnamese-worse",
   "metadata": {
    "papermill": {
     "duration": 0.003908,
     "end_time": "2021-08-05T13:03:45.290151",
     "exception": false,
     "start_time": "2021-08-05T13:03:45.286243",
     "status": "completed"
    },
    "tags": []
   },
   "source": [
    "# Step 2: Kaggle progression [5 minutes]\n",
    "\n",
    "There are five performance tiers at Kaggle: **Novice**, **Contributor**, **Expert**, **Master**, and **Grandmaster**.  \n",
    "\n",
    "The good news is: levelling up from **Novice** to **Contributor** is quick and easy.  This is what you'll do today!\n",
    "\n",
    "<img src=\"https://i.imgur.com/qivAote.png\" width=\"70%\"/>\n",
    "\n",
    "In order to level up, the list of things you need to do is shown in the image below.  \n",
    "\n",
    "<img src=\"https://i.imgur.com/ONYGsWU.png\" width=\"95%\"/>\n",
    "\n",
    "If you're curious about what you'll need to do in order to continue to move up the progression system (to **Expert** and ultimately **Grandmaster**), you can access this information by clicking on **Unranked** anywhere on your profile page.  This will bring you to [kaggle.com/progression](https://www.kaggle.com/progression).  You can read this page now, if you like.  If you'd prefer to review this information later, you can safely skip to the next section."
   ]
  },
  {
   "cell_type": "markdown",
   "id": "compliant-cleanup",
   "metadata": {
    "papermill": {
     "duration": 0.003943,
     "end_time": "2021-08-05T13:03:45.298222",
     "exception": false,
     "start_time": "2021-08-05T13:03:45.294279",
     "status": "completed"
    },
    "tags": []
   },
   "source": [
    "# Step 3: Submit to Titanic [20 minutes]\n",
    "\n",
    "First, you will run a notebook and make a competition submission (the first two items in the list).  To do this, follow the instructions in [this notebook](https://www.kaggle.com/alexisbcook/titanic-tutorial).\n",
    "\n",
    "The notebook does not assume any programming background, so you'll still be able to complete it, if you're completely new to data science."
   ]
  },
  {
   "cell_type": "markdown",
   "id": "israeli-skating",
   "metadata": {
    "papermill": {
     "duration": 0.003849,
     "end_time": "2021-08-05T13:03:45.306160",
     "exception": false,
     "start_time": "2021-08-05T13:03:45.302311",
     "status": "completed"
    },
    "tags": []
   },
   "source": [
    "# Step 4: Make a comment [7 minutes]\n",
    "\n",
    "Now, it's time to make one comment.  To start, navigate to the discussion forum for the Titanic competition by [clicking here](https://www.kaggle.com/c/titanic/discussion).  Find a topic that interests you, and click on it to view the list of comments that other users have already posted.\n",
    "\n",
    "When you try to make your own comment, you'll first be prompted to SMS verify your account.  SMS verification is required to access some useful features on Kaggle, such as Kaggle's free GPU and TPU hours.  This will come in handy if you decide to study [deep learning](https://www.kaggle.com/learn/intro-to-deep-learning) or [computer vision](https://www.kaggle.com/learn/computer-vision).  It will also allow you to join competitions that award cash prizes!\n",
    "\n",
    "The SMS verification process will navigate you to a form for submitting your mobile phone number.  After reading the page, if you would like to proceed, complete the form.  A verification code will then be sent to your number by text message.  Once you submit the code successfully, you're done, and can now comment on Kaggle!\n",
    "\n",
    "# Step 5: Give an upvote [1 minute]\n",
    "\n",
    "The next thing to do is give 1 upvote.  To do this, take a look at the comments that other users have posted.  Pick one that seems particularly useful or insightful, and click on the ticker to the right of the comment to cast an upvote.\n",
    "\n",
    "<img src=\"https://i.imgur.com/rpXV4TG.png\" width=\"95%\"/>\n",
    "\n",
    "And that's it!  You should now be a Contributor, and this should be reflected on your profile page.\n",
    "\n",
    "<img src=\"https://i.imgur.com/yW9db8p.png\" width=\"95%\"/>\n",
    "\n",
    "Congratulations for taking your first steps on Kaggle!\n",
    "\n",
    "# Not yet a Contributor?\n",
    "\n",
    "Once you have successfully completed all of the instructions in this notebook, you will be a Kaggle Contributor.  If your profile does not yet reflect this, you can return to the [progression page](https://www.kaggle.com/progression) to determine which items are missing.  \n",
    "\n",
    "<img src=\"https://i.imgur.com/cBFmcZV.png\" width=\"95%\"/>"
   ]
  },
  {
   "cell_type": "markdown",
   "id": "critical-operator",
   "metadata": {
    "papermill": {
     "duration": 0.003914,
     "end_time": "2021-08-05T13:03:45.314179",
     "exception": false,
     "start_time": "2021-08-05T13:03:45.310265",
     "status": "completed"
    },
    "tags": []
   },
   "source": [
    "# Have questions?\n",
    "\n",
    "If you have any questions about Kaggle's progression system, you can reach out to the community for help by posting in the [Getting Started forum](https://www.kaggle.com/getting-started).  To do this, click on [**+New Topic**] on the top right of the page.\n",
    "\n",
    "<img src=\"https://i.imgur.com/aySR9Zt.png\" width=\"95%\"/>\n",
    "\n",
    "# What's next?\n",
    "\n",
    "If you are participating in the 30 Days of ML program and accessing this notebook on the very first day, your work is done for today!  Tomorrrow, you will receive an email with your next assignment.\n",
    "\n",
    "If you haven't signed up for the 30 Days of ML program and are curious what to do next, Kaggle has a lot to offer, as you continue to progress as a data scientist.\n",
    "- If you're just learning data science, you're encouraged to check out our beginner-friendly courses on [**Kaggle Learn**](https://www.kaggle.com/learn).  The courses are free and last only a few hours.  Each lesson has a hands-on programming exercise, where you'll write code to analyze data.\n",
    "- To apply what you've learned to a real-life problem and learn new techniques alongside other Kagglers, check out [**Kaggle Competitions**](https://www.kaggle.com/competitions).\n",
    "- Once you're ready to build out a data science portfolio, you can use [**Kaggle Datasets**](https://www.kaggle.com/datasets) for inspiration and [**Kaggle Notebooks**](https://www.kaggle.com/notebooks) to run code and share your work with the community."
   ]
  }
 ],
 "metadata": {
  "kernelspec": {
   "display_name": "Python 3",
   "language": "python",
   "name": "python3"
  },
  "language_info": {
   "codemirror_mode": {
    "name": "ipython",
    "version": 3
   },
   "file_extension": ".py",
   "mimetype": "text/x-python",
   "name": "python",
   "nbconvert_exporter": "python",
   "pygments_lexer": "ipython3",
   "version": "3.7.10"
  },
  "papermill": {
   "default_parameters": {},
   "duration": 9.865354,
   "end_time": "2021-08-05T13:03:46.231536",
   "environment_variables": {},
   "exception": null,
   "input_path": "__notebook__.ipynb",
   "output_path": "__notebook__.ipynb",
   "parameters": {},
   "start_time": "2021-08-05T13:03:36.366182",
   "version": "2.3.3"
  }
 },
 "nbformat": 4,
 "nbformat_minor": 5
}
